{
 "cells": [
  {
   "cell_type": "code",
   "execution_count": null,
   "id": "1b348367",
   "metadata": {},
   "outputs": [],
   "source": []
  },
  {
   "cell_type": "code",
   "execution_count": 31,
   "id": "55dd3e7a",
   "metadata": {},
   "outputs": [],
   "source": [
    "import pandas as pd\n",
    "import numpy as np\n",
    "import seaborn as sns\n",
    "import matplotlib.pyplot as plt\n",
    "import statsmodels.formula.api as sm\n",
    "from sklearn import linear_model\n",
    "from sklearn.metrics import mean_squared_error\n",
    "from sklearn.metrics import r2_score\n",
    "import statsmodels.api as sm"
   ]
  },
  {
   "cell_type": "code",
   "execution_count": 57,
   "id": "f2272a71",
   "metadata": {},
   "outputs": [],
   "source": [
    "df = pd.read_csv(\"C:/Users/Computer/Downloads/delivery_time.csv\")"
   ]
  },
  {
   "cell_type": "code",
   "execution_count": 59,
   "id": "116bbe83",
   "metadata": {},
   "outputs": [
    {
     "data": {
      "text/html": [
       "<div>\n",
       "<style scoped>\n",
       "    .dataframe tbody tr th:only-of-type {\n",
       "        vertical-align: middle;\n",
       "    }\n",
       "\n",
       "    .dataframe tbody tr th {\n",
       "        vertical-align: top;\n",
       "    }\n",
       "\n",
       "    .dataframe thead th {\n",
       "        text-align: right;\n",
       "    }\n",
       "</style>\n",
       "<table border=\"1\" class=\"dataframe\">\n",
       "  <thead>\n",
       "    <tr style=\"text-align: right;\">\n",
       "      <th></th>\n",
       "      <th>Delivery Time</th>\n",
       "      <th>Sorting Time</th>\n",
       "    </tr>\n",
       "  </thead>\n",
       "  <tbody>\n",
       "    <tr>\n",
       "      <th>0</th>\n",
       "      <td>21.00</td>\n",
       "      <td>10</td>\n",
       "    </tr>\n",
       "    <tr>\n",
       "      <th>1</th>\n",
       "      <td>13.50</td>\n",
       "      <td>4</td>\n",
       "    </tr>\n",
       "    <tr>\n",
       "      <th>2</th>\n",
       "      <td>19.75</td>\n",
       "      <td>6</td>\n",
       "    </tr>\n",
       "    <tr>\n",
       "      <th>3</th>\n",
       "      <td>24.00</td>\n",
       "      <td>9</td>\n",
       "    </tr>\n",
       "    <tr>\n",
       "      <th>4</th>\n",
       "      <td>29.00</td>\n",
       "      <td>10</td>\n",
       "    </tr>\n",
       "    <tr>\n",
       "      <th>5</th>\n",
       "      <td>15.35</td>\n",
       "      <td>6</td>\n",
       "    </tr>\n",
       "    <tr>\n",
       "      <th>6</th>\n",
       "      <td>19.00</td>\n",
       "      <td>7</td>\n",
       "    </tr>\n",
       "    <tr>\n",
       "      <th>7</th>\n",
       "      <td>9.50</td>\n",
       "      <td>3</td>\n",
       "    </tr>\n",
       "    <tr>\n",
       "      <th>8</th>\n",
       "      <td>17.90</td>\n",
       "      <td>10</td>\n",
       "    </tr>\n",
       "    <tr>\n",
       "      <th>9</th>\n",
       "      <td>18.75</td>\n",
       "      <td>9</td>\n",
       "    </tr>\n",
       "    <tr>\n",
       "      <th>10</th>\n",
       "      <td>19.83</td>\n",
       "      <td>8</td>\n",
       "    </tr>\n",
       "    <tr>\n",
       "      <th>11</th>\n",
       "      <td>10.75</td>\n",
       "      <td>4</td>\n",
       "    </tr>\n",
       "    <tr>\n",
       "      <th>12</th>\n",
       "      <td>16.68</td>\n",
       "      <td>7</td>\n",
       "    </tr>\n",
       "    <tr>\n",
       "      <th>13</th>\n",
       "      <td>11.50</td>\n",
       "      <td>3</td>\n",
       "    </tr>\n",
       "    <tr>\n",
       "      <th>14</th>\n",
       "      <td>12.03</td>\n",
       "      <td>3</td>\n",
       "    </tr>\n",
       "    <tr>\n",
       "      <th>15</th>\n",
       "      <td>14.88</td>\n",
       "      <td>4</td>\n",
       "    </tr>\n",
       "    <tr>\n",
       "      <th>16</th>\n",
       "      <td>13.75</td>\n",
       "      <td>6</td>\n",
       "    </tr>\n",
       "    <tr>\n",
       "      <th>17</th>\n",
       "      <td>18.11</td>\n",
       "      <td>7</td>\n",
       "    </tr>\n",
       "    <tr>\n",
       "      <th>18</th>\n",
       "      <td>8.00</td>\n",
       "      <td>2</td>\n",
       "    </tr>\n",
       "    <tr>\n",
       "      <th>19</th>\n",
       "      <td>17.83</td>\n",
       "      <td>7</td>\n",
       "    </tr>\n",
       "    <tr>\n",
       "      <th>20</th>\n",
       "      <td>21.50</td>\n",
       "      <td>5</td>\n",
       "    </tr>\n",
       "  </tbody>\n",
       "</table>\n",
       "</div>"
      ],
      "text/plain": [
       "    Delivery Time  Sorting Time\n",
       "0           21.00            10\n",
       "1           13.50             4\n",
       "2           19.75             6\n",
       "3           24.00             9\n",
       "4           29.00            10\n",
       "5           15.35             6\n",
       "6           19.00             7\n",
       "7            9.50             3\n",
       "8           17.90            10\n",
       "9           18.75             9\n",
       "10          19.83             8\n",
       "11          10.75             4\n",
       "12          16.68             7\n",
       "13          11.50             3\n",
       "14          12.03             3\n",
       "15          14.88             4\n",
       "16          13.75             6\n",
       "17          18.11             7\n",
       "18           8.00             2\n",
       "19          17.83             7\n",
       "20          21.50             5"
      ]
     },
     "execution_count": 59,
     "metadata": {},
     "output_type": "execute_result"
    }
   ],
   "source": [
    "df"
   ]
  },
  {
   "cell_type": "code",
   "execution_count": 60,
   "id": "b22221a9",
   "metadata": {},
   "outputs": [
    {
     "data": {
      "text/html": [
       "<div>\n",
       "<style scoped>\n",
       "    .dataframe tbody tr th:only-of-type {\n",
       "        vertical-align: middle;\n",
       "    }\n",
       "\n",
       "    .dataframe tbody tr th {\n",
       "        vertical-align: top;\n",
       "    }\n",
       "\n",
       "    .dataframe thead th {\n",
       "        text-align: right;\n",
       "    }\n",
       "</style>\n",
       "<table border=\"1\" class=\"dataframe\">\n",
       "  <thead>\n",
       "    <tr style=\"text-align: right;\">\n",
       "      <th></th>\n",
       "      <th>Delivery Time</th>\n",
       "      <th>Sorting Time</th>\n",
       "    </tr>\n",
       "  </thead>\n",
       "  <tbody>\n",
       "    <tr>\n",
       "      <th>0</th>\n",
       "      <td>21.00</td>\n",
       "      <td>10</td>\n",
       "    </tr>\n",
       "    <tr>\n",
       "      <th>1</th>\n",
       "      <td>13.50</td>\n",
       "      <td>4</td>\n",
       "    </tr>\n",
       "    <tr>\n",
       "      <th>2</th>\n",
       "      <td>19.75</td>\n",
       "      <td>6</td>\n",
       "    </tr>\n",
       "    <tr>\n",
       "      <th>3</th>\n",
       "      <td>24.00</td>\n",
       "      <td>9</td>\n",
       "    </tr>\n",
       "    <tr>\n",
       "      <th>4</th>\n",
       "      <td>29.00</td>\n",
       "      <td>10</td>\n",
       "    </tr>\n",
       "    <tr>\n",
       "      <th>5</th>\n",
       "      <td>15.35</td>\n",
       "      <td>6</td>\n",
       "    </tr>\n",
       "    <tr>\n",
       "      <th>6</th>\n",
       "      <td>19.00</td>\n",
       "      <td>7</td>\n",
       "    </tr>\n",
       "    <tr>\n",
       "      <th>7</th>\n",
       "      <td>9.50</td>\n",
       "      <td>3</td>\n",
       "    </tr>\n",
       "    <tr>\n",
       "      <th>8</th>\n",
       "      <td>17.90</td>\n",
       "      <td>10</td>\n",
       "    </tr>\n",
       "    <tr>\n",
       "      <th>9</th>\n",
       "      <td>18.75</td>\n",
       "      <td>9</td>\n",
       "    </tr>\n",
       "    <tr>\n",
       "      <th>10</th>\n",
       "      <td>19.83</td>\n",
       "      <td>8</td>\n",
       "    </tr>\n",
       "    <tr>\n",
       "      <th>11</th>\n",
       "      <td>10.75</td>\n",
       "      <td>4</td>\n",
       "    </tr>\n",
       "    <tr>\n",
       "      <th>12</th>\n",
       "      <td>16.68</td>\n",
       "      <td>7</td>\n",
       "    </tr>\n",
       "    <tr>\n",
       "      <th>13</th>\n",
       "      <td>11.50</td>\n",
       "      <td>3</td>\n",
       "    </tr>\n",
       "    <tr>\n",
       "      <th>14</th>\n",
       "      <td>12.03</td>\n",
       "      <td>3</td>\n",
       "    </tr>\n",
       "    <tr>\n",
       "      <th>15</th>\n",
       "      <td>14.88</td>\n",
       "      <td>4</td>\n",
       "    </tr>\n",
       "    <tr>\n",
       "      <th>16</th>\n",
       "      <td>13.75</td>\n",
       "      <td>6</td>\n",
       "    </tr>\n",
       "    <tr>\n",
       "      <th>17</th>\n",
       "      <td>18.11</td>\n",
       "      <td>7</td>\n",
       "    </tr>\n",
       "    <tr>\n",
       "      <th>18</th>\n",
       "      <td>8.00</td>\n",
       "      <td>2</td>\n",
       "    </tr>\n",
       "    <tr>\n",
       "      <th>19</th>\n",
       "      <td>17.83</td>\n",
       "      <td>7</td>\n",
       "    </tr>\n",
       "    <tr>\n",
       "      <th>20</th>\n",
       "      <td>21.50</td>\n",
       "      <td>5</td>\n",
       "    </tr>\n",
       "  </tbody>\n",
       "</table>\n",
       "</div>"
      ],
      "text/plain": [
       "    Delivery Time  Sorting Time\n",
       "0           21.00            10\n",
       "1           13.50             4\n",
       "2           19.75             6\n",
       "3           24.00             9\n",
       "4           29.00            10\n",
       "5           15.35             6\n",
       "6           19.00             7\n",
       "7            9.50             3\n",
       "8           17.90            10\n",
       "9           18.75             9\n",
       "10          19.83             8\n",
       "11          10.75             4\n",
       "12          16.68             7\n",
       "13          11.50             3\n",
       "14          12.03             3\n",
       "15          14.88             4\n",
       "16          13.75             6\n",
       "17          18.11             7\n",
       "18           8.00             2\n",
       "19          17.83             7\n",
       "20          21.50             5"
      ]
     },
     "execution_count": 60,
     "metadata": {},
     "output_type": "execute_result"
    }
   ],
   "source": [
    "df"
   ]
  },
  {
   "cell_type": "code",
   "execution_count": 61,
   "id": "1823d0b6",
   "metadata": {},
   "outputs": [
    {
     "data": {
      "text/html": [
       "<div>\n",
       "<style scoped>\n",
       "    .dataframe tbody tr th:only-of-type {\n",
       "        vertical-align: middle;\n",
       "    }\n",
       "\n",
       "    .dataframe tbody tr th {\n",
       "        vertical-align: top;\n",
       "    }\n",
       "\n",
       "    .dataframe thead th {\n",
       "        text-align: right;\n",
       "    }\n",
       "</style>\n",
       "<table border=\"1\" class=\"dataframe\">\n",
       "  <thead>\n",
       "    <tr style=\"text-align: right;\">\n",
       "      <th></th>\n",
       "      <th>Delivery Time</th>\n",
       "      <th>Sorting Time</th>\n",
       "    </tr>\n",
       "  </thead>\n",
       "  <tbody>\n",
       "    <tr>\n",
       "      <th>0</th>\n",
       "      <td>21.00</td>\n",
       "      <td>10</td>\n",
       "    </tr>\n",
       "    <tr>\n",
       "      <th>1</th>\n",
       "      <td>13.50</td>\n",
       "      <td>4</td>\n",
       "    </tr>\n",
       "    <tr>\n",
       "      <th>2</th>\n",
       "      <td>19.75</td>\n",
       "      <td>6</td>\n",
       "    </tr>\n",
       "    <tr>\n",
       "      <th>3</th>\n",
       "      <td>24.00</td>\n",
       "      <td>9</td>\n",
       "    </tr>\n",
       "    <tr>\n",
       "      <th>4</th>\n",
       "      <td>29.00</td>\n",
       "      <td>10</td>\n",
       "    </tr>\n",
       "    <tr>\n",
       "      <th>5</th>\n",
       "      <td>15.35</td>\n",
       "      <td>6</td>\n",
       "    </tr>\n",
       "    <tr>\n",
       "      <th>6</th>\n",
       "      <td>19.00</td>\n",
       "      <td>7</td>\n",
       "    </tr>\n",
       "    <tr>\n",
       "      <th>7</th>\n",
       "      <td>9.50</td>\n",
       "      <td>3</td>\n",
       "    </tr>\n",
       "    <tr>\n",
       "      <th>8</th>\n",
       "      <td>17.90</td>\n",
       "      <td>10</td>\n",
       "    </tr>\n",
       "    <tr>\n",
       "      <th>9</th>\n",
       "      <td>18.75</td>\n",
       "      <td>9</td>\n",
       "    </tr>\n",
       "    <tr>\n",
       "      <th>10</th>\n",
       "      <td>19.83</td>\n",
       "      <td>8</td>\n",
       "    </tr>\n",
       "    <tr>\n",
       "      <th>11</th>\n",
       "      <td>10.75</td>\n",
       "      <td>4</td>\n",
       "    </tr>\n",
       "    <tr>\n",
       "      <th>12</th>\n",
       "      <td>16.68</td>\n",
       "      <td>7</td>\n",
       "    </tr>\n",
       "    <tr>\n",
       "      <th>13</th>\n",
       "      <td>11.50</td>\n",
       "      <td>3</td>\n",
       "    </tr>\n",
       "    <tr>\n",
       "      <th>14</th>\n",
       "      <td>12.03</td>\n",
       "      <td>3</td>\n",
       "    </tr>\n",
       "    <tr>\n",
       "      <th>15</th>\n",
       "      <td>14.88</td>\n",
       "      <td>4</td>\n",
       "    </tr>\n",
       "    <tr>\n",
       "      <th>16</th>\n",
       "      <td>13.75</td>\n",
       "      <td>6</td>\n",
       "    </tr>\n",
       "    <tr>\n",
       "      <th>17</th>\n",
       "      <td>18.11</td>\n",
       "      <td>7</td>\n",
       "    </tr>\n",
       "    <tr>\n",
       "      <th>18</th>\n",
       "      <td>8.00</td>\n",
       "      <td>2</td>\n",
       "    </tr>\n",
       "    <tr>\n",
       "      <th>19</th>\n",
       "      <td>17.83</td>\n",
       "      <td>7</td>\n",
       "    </tr>\n",
       "    <tr>\n",
       "      <th>20</th>\n",
       "      <td>21.50</td>\n",
       "      <td>5</td>\n",
       "    </tr>\n",
       "  </tbody>\n",
       "</table>\n",
       "</div>"
      ],
      "text/plain": [
       "    Delivery Time  Sorting Time\n",
       "0           21.00            10\n",
       "1           13.50             4\n",
       "2           19.75             6\n",
       "3           24.00             9\n",
       "4           29.00            10\n",
       "5           15.35             6\n",
       "6           19.00             7\n",
       "7            9.50             3\n",
       "8           17.90            10\n",
       "9           18.75             9\n",
       "10          19.83             8\n",
       "11          10.75             4\n",
       "12          16.68             7\n",
       "13          11.50             3\n",
       "14          12.03             3\n",
       "15          14.88             4\n",
       "16          13.75             6\n",
       "17          18.11             7\n",
       "18           8.00             2\n",
       "19          17.83             7\n",
       "20          21.50             5"
      ]
     },
     "execution_count": 61,
     "metadata": {},
     "output_type": "execute_result"
    }
   ],
   "source": [
    "df"
   ]
  },
  {
   "cell_type": "code",
   "execution_count": 7,
   "id": "89fbcc6f",
   "metadata": {},
   "outputs": [],
   "source": [
    "#EDA"
   ]
  },
  {
   "cell_type": "code",
   "execution_count": 62,
   "id": "69b1960a",
   "metadata": {},
   "outputs": [
    {
     "name": "stdout",
     "output_type": "stream",
     "text": [
      "<class 'pandas.core.frame.DataFrame'>\n",
      "RangeIndex: 21 entries, 0 to 20\n",
      "Data columns (total 2 columns):\n",
      " #   Column         Non-Null Count  Dtype  \n",
      "---  ------         --------------  -----  \n",
      " 0   Delivery Time  21 non-null     float64\n",
      " 1   Sorting Time   21 non-null     int64  \n",
      "dtypes: float64(1), int64(1)\n",
      "memory usage: 464.0 bytes\n"
     ]
    }
   ],
   "source": [
    "df.info()"
   ]
  },
  {
   "cell_type": "code",
   "execution_count": 64,
   "id": "2e0bdeb4",
   "metadata": {},
   "outputs": [],
   "source": [
    "# Renaming Columns\n",
    "df = df.rename({'Delivery Time':'delivery_time', 'Sorting Time':'sorting_time'},axis=1);"
   ]
  },
  {
   "cell_type": "code",
   "execution_count": 9,
   "id": "01dfa5af",
   "metadata": {},
   "outputs": [],
   "source": [
    "#Visualization"
   ]
  },
  {
   "cell_type": "code",
   "execution_count": 65,
   "id": "b835008b",
   "metadata": {},
   "outputs": [
    {
     "data": {
      "text/plain": [
       "<AxesSubplot:xlabel='delivery_time', ylabel='sorting_time'>"
      ]
     },
     "execution_count": 65,
     "metadata": {},
     "output_type": "execute_result"
    },
    {
     "data": {
      "image/png": "[encoded data removed]",
      "text/plain": [
       "<Figure size 432x288 with 1 Axes>"
      ]
     },
     "metadata": {
      "needs_background": "light"
     },
     "output_type": "display_data"
    }
   ],
   "source": [
    "df.plot(kind = \"scatter\" , x='delivery_time' , y = 'sorting_time')"
   ]
  },
  {
   "cell_type": "code",
   "execution_count": 67,
   "id": "2506738a",
   "metadata": {},
   "outputs": [
    {
     "name": "stderr",
     "output_type": "stream",
     "text": [
      "C:\\Users\\Computer\\anaconda3\\lib\\site-packages\\seaborn\\distributions.py:2557: FutureWarning: `distplot` is a deprecated function and will be removed in a future version. Please adapt your code to use either `displot` (a figure-level function with similar flexibility) or `histplot` (an axes-level function for histograms).\n",
      "  warnings.warn(msg, FutureWarning)\n"
     ]
    },
    {
     "data": {
      "text/plain": [
       "<AxesSubplot:xlabel='delivery_time', ylabel='Density'>"
      ]
     },
     "execution_count": 67,
     "metadata": {},
     "output_type": "execute_result"
    },
    {
     "data": {
      "image/png": "[encoded data removed]",
      "text/plain": [
       "<Figure size 432x288 with 1 Axes>"
      ]
     },
     "metadata": {
      "needs_background": "light"
     },
     "output_type": "display_data"
    }
   ],
   "source": [
    "sns.distplot(df[\"delivery_time\"])"
   ]
  },
  {
   "cell_type": "code",
   "execution_count": 68,
   "id": "cd969106",
   "metadata": {},
   "outputs": [
    {
     "name": "stderr",
     "output_type": "stream",
     "text": [
      "C:\\Users\\Computer\\anaconda3\\lib\\site-packages\\seaborn\\distributions.py:2557: FutureWarning: `distplot` is a deprecated function and will be removed in a future version. Please adapt your code to use either `displot` (a figure-level function with similar flexibility) or `histplot` (an axes-level function for histograms).\n",
      "  warnings.warn(msg, FutureWarning)\n"
     ]
    },
    {
     "data": {
      "text/plain": [
       "<AxesSubplot:xlabel='sorting_time', ylabel='Density'>"
      ]
     },
     "execution_count": 68,
     "metadata": {},
     "output_type": "execute_result"
    },
    {
     "data": {
      "image/png": "[encoded data removed]",
      "text/plain": [
       "<Figure size 432x288 with 1 Axes>"
      ]
     },
     "metadata": {
      "needs_background": "light"
     },
     "output_type": "display_data"
    }
   ],
   "source": [
    "sns.distplot(df[\"sorting_time\"])"
   ]
  },
  {
   "cell_type": "code",
   "execution_count": 69,
   "id": "59135653",
   "metadata": {},
   "outputs": [
    {
     "data": {
      "text/plain": [
       "<AxesSubplot:>"
      ]
     },
     "execution_count": 69,
     "metadata": {},
     "output_type": "execute_result"
    },
    {
     "data": {
      "image/png": "[encoded data removed]",
      "text/plain": [
       "<Figure size 432x288 with 1 Axes>"
      ]
     },
     "metadata": {
      "needs_background": "light"
     },
     "output_type": "display_data"
    }
   ],
   "source": [
    "df.plot(kind='box')"
   ]
  },
  {
   "cell_type": "code",
   "execution_count": 73,
   "id": "e08dbea3",
   "metadata": {},
   "outputs": [
    {
     "data": {
      "text/plain": [
       "<AxesSubplot:xlabel='sorting_time', ylabel='delivery_time'>"
      ]
     },
     "execution_count": 73,
     "metadata": {},
     "output_type": "execute_result"
    },
    {
     "data": {
      "image/png": "[encoded data removed]",
      "text/plain": [
       "<Figure size 432x288 with 1 Axes>"
      ]
     },
     "metadata": {
      "needs_background": "light"
     },
     "output_type": "display_data"
    }
   ],
   "source": [
    "sns.regplot(x=df['sorting_time'],y=df['delivery_time'])"
   ]
  },
  {
   "cell_type": "code",
   "execution_count": null,
   "id": "bb3cd8d7",
   "metadata": {},
   "outputs": [],
   "source": []
  },
  {
   "cell_type": "code",
   "execution_count": 74,
   "id": "c3b6e4f5",
   "metadata": {},
   "outputs": [],
   "source": [
    "#Correlation Matrix"
   ]
  },
  {
   "cell_type": "code",
   "execution_count": 77,
   "id": "8e2b2844",
   "metadata": {},
   "outputs": [
    {
     "data": {
      "text/html": [
       "<div>\n",
       "<style scoped>\n",
       "    .dataframe tbody tr th:only-of-type {\n",
       "        vertical-align: middle;\n",
       "    }\n",
       "\n",
       "    .dataframe tbody tr th {\n",
       "        vertical-align: top;\n",
       "    }\n",
       "\n",
       "    .dataframe thead th {\n",
       "        text-align: right;\n",
       "    }\n",
       "</style>\n",
       "<table border=\"1\" class=\"dataframe\">\n",
       "  <thead>\n",
       "    <tr style=\"text-align: right;\">\n",
       "      <th></th>\n",
       "      <th>delivery_time</th>\n",
       "      <th>sorting_time</th>\n",
       "    </tr>\n",
       "  </thead>\n",
       "  <tbody>\n",
       "    <tr>\n",
       "      <th>delivery_time</th>\n",
       "      <td>1.000000</td>\n",
       "      <td>0.825997</td>\n",
       "    </tr>\n",
       "    <tr>\n",
       "      <th>sorting_time</th>\n",
       "      <td>0.825997</td>\n",
       "      <td>1.000000</td>\n",
       "    </tr>\n",
       "  </tbody>\n",
       "</table>\n",
       "</div>"
      ],
      "text/plain": [
       "               delivery_time  sorting_time\n",
       "delivery_time       1.000000      0.825997\n",
       "sorting_time        0.825997      1.000000"
      ]
     },
     "execution_count": 77,
     "metadata": {},
     "output_type": "execute_result"
    }
   ],
   "source": [
    "df.corr()"
   ]
  },
  {
   "cell_type": "code",
   "execution_count": null,
   "id": "84dcf19b",
   "metadata": {},
   "outputs": [],
   "source": [
    "#Model Building"
   ]
  },
  {
   "cell_type": "code",
   "execution_count": 78,
   "id": "3b949278",
   "metadata": {},
   "outputs": [],
   "source": [
    "model = smf.ols('delivery_time ~ sorting_time', data = df).fit()"
   ]
  },
  {
   "cell_type": "code",
   "execution_count": null,
   "id": "9b6e0bf9",
   "metadata": {},
   "outputs": [],
   "source": []
  },
  {
   "cell_type": "code",
   "execution_count": 79,
   "id": "63a2c642",
   "metadata": {},
   "outputs": [],
   "source": [
    "#Getting important Parameters from Model"
   ]
  },
  {
   "cell_type": "code",
   "execution_count": 80,
   "id": "8c65485b",
   "metadata": {},
   "outputs": [
    {
     "name": "stdout",
     "output_type": "stream",
     "text": [
      "Intercept, Bo:  6.582733971997052\n",
      "Sorting Time, B1:  1.6490198968312455\n",
      "tvalue:  Intercept       3.823349\n",
      "sorting_time    6.387447\n",
      "dtype: float64\n",
      "pvalue:  Intercept       0.001147\n",
      "sorting_time    0.000004\n",
      "dtype: float64\n",
      "R2:  0.6822714748417231\n",
      "R2_Adj:  0.6655489208860244\n"
     ]
    }
   ],
   "source": [
    "# Coefficients Bo and B1\n",
    "Bo, B1 = model.params\n",
    "print(\"Intercept, Bo: \", Bo)\n",
    "print(\"Sorting Time, B1: \", B1)\n",
    "\n",
    "# Getting tvalue and pvalue\n",
    "tvalue, pvalue = (model.tvalues, model.pvalues)\n",
    "print(\"tvalue: \", tvalue)\n",
    "print(\"pvalue: \", pvalue)\n",
    "\n",
    "# Getting R squared values\n",
    "r_sq, r_sq_adj = (model.rsquared, model.rsquared_adj)\n",
    "print(\"R2: \", r_sq)\n",
    "print(\"R2_Adj: \", r_sq_adj)"
   ]
  },
  {
   "cell_type": "code",
   "execution_count": null,
   "id": "9b19834b",
   "metadata": {},
   "outputs": [],
   "source": []
  },
  {
   "cell_type": "code",
   "execution_count": null,
   "id": "a6dc48d1",
   "metadata": {},
   "outputs": [],
   "source": [
    "#Y = 6.5827339719970555 + 1.649019896831246*X  for checking"
   ]
  },
  {
   "cell_type": "code",
   "execution_count": 81,
   "id": "bae6d22a",
   "metadata": {},
   "outputs": [
    {
     "data": {
      "text/html": [
       "<div>\n",
       "<style scoped>\n",
       "    .dataframe tbody tr th:only-of-type {\n",
       "        vertical-align: middle;\n",
       "    }\n",
       "\n",
       "    .dataframe tbody tr th {\n",
       "        vertical-align: top;\n",
       "    }\n",
       "\n",
       "    .dataframe thead th {\n",
       "        text-align: right;\n",
       "    }\n",
       "</style>\n",
       "<table border=\"1\" class=\"dataframe\">\n",
       "  <thead>\n",
       "    <tr style=\"text-align: right;\">\n",
       "      <th></th>\n",
       "      <th>Delivery_Time_Actual</th>\n",
       "      <th>Delivery_Time_Predicted</th>\n",
       "    </tr>\n",
       "  </thead>\n",
       "  <tbody>\n",
       "    <tr>\n",
       "      <th>0</th>\n",
       "      <td>21.00</td>\n",
       "      <td>23.072933</td>\n",
       "    </tr>\n",
       "    <tr>\n",
       "      <th>1</th>\n",
       "      <td>13.50</td>\n",
       "      <td>13.178814</td>\n",
       "    </tr>\n",
       "    <tr>\n",
       "      <th>2</th>\n",
       "      <td>19.75</td>\n",
       "      <td>16.476853</td>\n",
       "    </tr>\n",
       "    <tr>\n",
       "      <th>3</th>\n",
       "      <td>24.00</td>\n",
       "      <td>21.423913</td>\n",
       "    </tr>\n",
       "    <tr>\n",
       "      <th>4</th>\n",
       "      <td>29.00</td>\n",
       "      <td>23.072933</td>\n",
       "    </tr>\n",
       "    <tr>\n",
       "      <th>5</th>\n",
       "      <td>15.35</td>\n",
       "      <td>16.476853</td>\n",
       "    </tr>\n",
       "    <tr>\n",
       "      <th>6</th>\n",
       "      <td>19.00</td>\n",
       "      <td>18.125873</td>\n",
       "    </tr>\n",
       "    <tr>\n",
       "      <th>7</th>\n",
       "      <td>9.50</td>\n",
       "      <td>11.529794</td>\n",
       "    </tr>\n",
       "    <tr>\n",
       "      <th>8</th>\n",
       "      <td>17.90</td>\n",
       "      <td>23.072933</td>\n",
       "    </tr>\n",
       "    <tr>\n",
       "      <th>9</th>\n",
       "      <td>18.75</td>\n",
       "      <td>21.423913</td>\n",
       "    </tr>\n",
       "    <tr>\n",
       "      <th>10</th>\n",
       "      <td>19.83</td>\n",
       "      <td>19.774893</td>\n",
       "    </tr>\n",
       "    <tr>\n",
       "      <th>11</th>\n",
       "      <td>10.75</td>\n",
       "      <td>13.178814</td>\n",
       "    </tr>\n",
       "    <tr>\n",
       "      <th>12</th>\n",
       "      <td>16.68</td>\n",
       "      <td>18.125873</td>\n",
       "    </tr>\n",
       "    <tr>\n",
       "      <th>13</th>\n",
       "      <td>11.50</td>\n",
       "      <td>11.529794</td>\n",
       "    </tr>\n",
       "    <tr>\n",
       "      <th>14</th>\n",
       "      <td>12.03</td>\n",
       "      <td>11.529794</td>\n",
       "    </tr>\n",
       "    <tr>\n",
       "      <th>15</th>\n",
       "      <td>14.88</td>\n",
       "      <td>13.178814</td>\n",
       "    </tr>\n",
       "    <tr>\n",
       "      <th>16</th>\n",
       "      <td>13.75</td>\n",
       "      <td>16.476853</td>\n",
       "    </tr>\n",
       "    <tr>\n",
       "      <th>17</th>\n",
       "      <td>18.11</td>\n",
       "      <td>18.125873</td>\n",
       "    </tr>\n",
       "    <tr>\n",
       "      <th>18</th>\n",
       "      <td>8.00</td>\n",
       "      <td>9.880774</td>\n",
       "    </tr>\n",
       "    <tr>\n",
       "      <th>19</th>\n",
       "      <td>17.83</td>\n",
       "      <td>18.125873</td>\n",
       "    </tr>\n",
       "    <tr>\n",
       "      <th>20</th>\n",
       "      <td>21.50</td>\n",
       "      <td>14.827833</td>\n",
       "    </tr>\n",
       "  </tbody>\n",
       "</table>\n",
       "</div>"
      ],
      "text/plain": [
       "    Delivery_Time_Actual  Delivery_Time_Predicted\n",
       "0                  21.00                23.072933\n",
       "1                  13.50                13.178814\n",
       "2                  19.75                16.476853\n",
       "3                  24.00                21.423913\n",
       "4                  29.00                23.072933\n",
       "5                  15.35                16.476853\n",
       "6                  19.00                18.125873\n",
       "7                   9.50                11.529794\n",
       "8                  17.90                23.072933\n",
       "9                  18.75                21.423913\n",
       "10                 19.83                19.774893\n",
       "11                 10.75                13.178814\n",
       "12                 16.68                18.125873\n",
       "13                 11.50                11.529794\n",
       "14                 12.03                11.529794\n",
       "15                 14.88                13.178814\n",
       "16                 13.75                16.476853\n",
       "17                 18.11                18.125873\n",
       "18                  8.00                 9.880774\n",
       "19                 17.83                18.125873\n",
       "20                 21.50                14.827833"
      ]
     },
     "execution_count": 81,
     "metadata": {},
     "output_type": "execute_result"
    }
   ],
   "source": [
    "predicted_time = model.predict(df.sorting_time)\n",
    "pred_df = pd.DataFrame({'Delivery_Time_Actual' : df.delivery_time, 'Delivery_Time_Predicted' : predicted_time})\n",
    "pred_df"
   ]
  },
  {
   "cell_type": "code",
   "execution_count": 82,
   "id": "4caa7c95",
   "metadata": {},
   "outputs": [
    {
     "data": {
      "image/png": "[encoded data removed]",
      "text/plain": [
       "<Figure size 432x288 with 1 Axes>"
      ]
     },
     "metadata": {
      "needs_background": "light"
     },
     "output_type": "display_data"
    }
   ],
   "source": [
    "# Plotting Actual Vs. Predicted Values\n",
    "plt.scatter(df.sorting_time, df.delivery_time,  color='gray')\n",
    "plt.plot(df.sorting_time, predicted_time, color='red', linewidth=2)\n",
    "plt.title('Actual Vs. Predicted Values')\n",
    "plt.xlabel('Sorting Time')\n",
    "plt.ylabel('Delivery Time')\n",
    "plt.show()"
   ]
  },
  {
   "cell_type": "code",
   "execution_count": null,
   "id": "1d3325fb",
   "metadata": {},
   "outputs": [],
   "source": []
  },
  {
   "cell_type": "code",
   "execution_count": 83,
   "id": "971288ca",
   "metadata": {},
   "outputs": [],
   "source": [
    "#Calculating Errors"
   ]
  },
  {
   "cell_type": "code",
   "execution_count": 84,
   "id": "270bd4db",
   "metadata": {},
   "outputs": [
    {
     "name": "stdout",
     "output_type": "stream",
     "text": [
      "Mean Absolute Error: 2.0857409551882653\n",
      "Mean Squared Error: 7.793311548584063\n",
      "Root Mean Squared Error: 2.7916503270617654\n",
      "R^2 Score :           0.6822714748417231\n"
     ]
    }
   ],
   "source": [
    "from sklearn import metrics\n",
    "print('Mean Absolute Error:', metrics.mean_absolute_error(df.delivery_time, predicted_time))  \n",
    "print('Mean Squared Error:', metrics.mean_squared_error(df.delivery_time, predicted_time))  \n",
    "print('Root Mean Squared Error:', np.sqrt(metrics.mean_squared_error(df.delivery_time, predicted_time)))\n",
    "print(\"R^2 Score :          \", metrics.r2_score(df.delivery_time, predicted_time))"
   ]
  },
  {
   "cell_type": "code",
   "execution_count": 86,
   "id": "722e57bc",
   "metadata": {},
   "outputs": [],
   "source": [
    "#Checking Normality of Residuals Using the Anderson-Darling test for normal distribution"
   ]
  },
  {
   "cell_type": "code",
   "execution_count": 85,
   "id": "a383f828",
   "metadata": {},
   "outputs": [
    {
     "name": "stdout",
     "output_type": "stream",
     "text": [
      "p-value from the test: below 0.05 generally means non-normal: 0.1496009945346252\n",
      "Residuals are normally distributed\n"
     ]
    },
    {
     "name": "stderr",
     "output_type": "stream",
     "text": [
      "C:\\Users\\Computer\\anaconda3\\lib\\site-packages\\seaborn\\distributions.py:2557: FutureWarning: `distplot` is a deprecated function and will be removed in a future version. Please adapt your code to use either `displot` (a figure-level function with similar flexibility) or `histplot` (an axes-level function for histograms).\n",
      "  warnings.warn(msg, FutureWarning)\n"
     ]
    },
    {
     "data": {
      "image/png": "[encoded data removed]",
      "text/plain": [
       "<Figure size 864x432 with 1 Axes>"
      ]
     },
     "metadata": {
      "needs_background": "light"
     },
     "output_type": "display_data"
    }
   ],
   "source": [
    "from statsmodels.stats.diagnostic import normal_ad\n",
    "residuals = df.delivery_time - predicted_time\n",
    "p_value_thresh=0.05\n",
    "# Performing the test on the residuals\n",
    "p_value = normal_ad(residuals)[1]\n",
    "print('p-value from the test: below 0.05 generally means non-normal:', p_value)\n",
    "\n",
    "# Reporting the normality of the residuals\n",
    "if p_value < p_value_thresh:\n",
    "    print('Residuals are not normally distributed')\n",
    "else:\n",
    "    print('Residuals are normally distributed')\n",
    "\n",
    "# Plotting the residuals distribution\n",
    "plt.subplots(figsize=(12, 6))\n",
    "plt.title('Distribution of Residuals')\n",
    "sns.distplot(residuals)\n",
    "plt.show()"
   ]
  },
  {
   "cell_type": "code",
   "execution_count": 87,
   "id": "e738244f",
   "metadata": {},
   "outputs": [
    {
     "data": {
      "text/html": [
       "<table class=\"simpletable\">\n",
       "<caption>OLS Regression Results</caption>\n",
       "<tr>\n",
       "  <th>Dep. Variable:</th>      <td>delivery_time</td>  <th>  R-squared:         </th> <td>   0.682</td>\n",
       "</tr>\n",
       "<tr>\n",
       "  <th>Model:</th>                   <td>OLS</td>       <th>  Adj. R-squared:    </th> <td>   0.666</td>\n",
       "</tr>\n",
       "<tr>\n",
       "  <th>Method:</th>             <td>Least Squares</td>  <th>  F-statistic:       </th> <td>   40.80</td>\n",
       "</tr>\n",
       "<tr>\n",
       "  <th>Date:</th>             <td>Thu, 03 Feb 2022</td> <th>  Prob (F-statistic):</th> <td>3.98e-06</td>\n",
       "</tr>\n",
       "<tr>\n",
       "  <th>Time:</th>                 <td>17:57:02</td>     <th>  Log-Likelihood:    </th> <td> -51.357</td>\n",
       "</tr>\n",
       "<tr>\n",
       "  <th>No. Observations:</th>      <td>    21</td>      <th>  AIC:               </th> <td>   106.7</td>\n",
       "</tr>\n",
       "<tr>\n",
       "  <th>Df Residuals:</th>          <td>    19</td>      <th>  BIC:               </th> <td>   108.8</td>\n",
       "</tr>\n",
       "<tr>\n",
       "  <th>Df Model:</th>              <td>     1</td>      <th>                     </th>     <td> </td>   \n",
       "</tr>\n",
       "<tr>\n",
       "  <th>Covariance Type:</th>      <td>nonrobust</td>    <th>                     </th>     <td> </td>   \n",
       "</tr>\n",
       "</table>\n",
       "<table class=\"simpletable\">\n",
       "<tr>\n",
       "        <td></td>          <th>coef</th>     <th>std err</th>      <th>t</th>      <th>P>|t|</th>  <th>[0.025</th>    <th>0.975]</th>  \n",
       "</tr>\n",
       "<tr>\n",
       "  <th>Intercept</th>    <td>    6.5827</td> <td>    1.722</td> <td>    3.823</td> <td> 0.001</td> <td>    2.979</td> <td>   10.186</td>\n",
       "</tr>\n",
       "<tr>\n",
       "  <th>sorting_time</th> <td>    1.6490</td> <td>    0.258</td> <td>    6.387</td> <td> 0.000</td> <td>    1.109</td> <td>    2.189</td>\n",
       "</tr>\n",
       "</table>\n",
       "<table class=\"simpletable\">\n",
       "<tr>\n",
       "  <th>Omnibus:</th>       <td> 3.649</td> <th>  Durbin-Watson:     </th> <td>   1.248</td>\n",
       "</tr>\n",
       "<tr>\n",
       "  <th>Prob(Omnibus):</th> <td> 0.161</td> <th>  Jarque-Bera (JB):  </th> <td>   2.086</td>\n",
       "</tr>\n",
       "<tr>\n",
       "  <th>Skew:</th>          <td> 0.750</td> <th>  Prob(JB):          </th> <td>   0.352</td>\n",
       "</tr>\n",
       "<tr>\n",
       "  <th>Kurtosis:</th>      <td> 3.367</td> <th>  Cond. No.          </th> <td>    18.3</td>\n",
       "</tr>\n",
       "</table><br/><br/>Notes:<br/>[1] Standard Errors assume that the covariance matrix of the errors is correctly specified."
      ],
      "text/plain": [
       "<class 'statsmodels.iolib.summary.Summary'>\n",
       "\"\"\"\n",
       "                            OLS Regression Results                            \n",
       "==============================================================================\n",
       "Dep. Variable:          delivery_time   R-squared:                       0.682\n",
       "Model:                            OLS   Adj. R-squared:                  0.666\n",
       "Method:                 Least Squares   F-statistic:                     40.80\n",
       "Date:                Thu, 03 Feb 2022   Prob (F-statistic):           3.98e-06\n",
       "Time:                        17:57:02   Log-Likelihood:                -51.357\n",
       "No. Observations:                  21   AIC:                             106.7\n",
       "Df Residuals:                      19   BIC:                             108.8\n",
       "Df Model:                           1                                         \n",
       "Covariance Type:            nonrobust                                         \n",
       "================================================================================\n",
       "                   coef    std err          t      P>|t|      [0.025      0.975]\n",
       "--------------------------------------------------------------------------------\n",
       "Intercept        6.5827      1.722      3.823      0.001       2.979      10.186\n",
       "sorting_time     1.6490      0.258      6.387      0.000       1.109       2.189\n",
       "==============================================================================\n",
       "Omnibus:                        3.649   Durbin-Watson:                   1.248\n",
       "Prob(Omnibus):                  0.161   Jarque-Bera (JB):                2.086\n",
       "Skew:                           0.750   Prob(JB):                        0.352\n",
       "Kurtosis:                       3.367   Cond. No.                         18.3\n",
       "==============================================================================\n",
       "\n",
       "Notes:\n",
       "[1] Standard Errors assume that the covariance matrix of the errors is correctly specified.\n",
       "\"\"\""
      ]
     },
     "execution_count": 87,
     "metadata": {},
     "output_type": "execute_result"
    }
   ],
   "source": [
    "model.summary()"
   ]
  },
  {
   "cell_type": "code",
   "execution_count": null,
   "id": "8f602f45",
   "metadata": {},
   "outputs": [],
   "source": []
  },
  {
   "cell_type": "code",
   "execution_count": 88,
   "id": "3069224f",
   "metadata": {},
   "outputs": [],
   "source": [
    "\n",
    "#Building model with Logarithmic Transformation\n",
    "#Y = a + b * log(x)"
   ]
  },
  {
   "cell_type": "code",
   "execution_count": 89,
   "id": "0ad2c3e5",
   "metadata": {},
   "outputs": [
    {
     "data": {
      "text/html": [
       "<div>\n",
       "<style scoped>\n",
       "    .dataframe tbody tr th:only-of-type {\n",
       "        vertical-align: middle;\n",
       "    }\n",
       "\n",
       "    .dataframe tbody tr th {\n",
       "        vertical-align: top;\n",
       "    }\n",
       "\n",
       "    .dataframe thead th {\n",
       "        text-align: right;\n",
       "    }\n",
       "</style>\n",
       "<table border=\"1\" class=\"dataframe\">\n",
       "  <thead>\n",
       "    <tr style=\"text-align: right;\">\n",
       "      <th></th>\n",
       "      <th>delivery_time</th>\n",
       "      <th>sorting_time</th>\n",
       "      <th>log_sorting_time</th>\n",
       "    </tr>\n",
       "  </thead>\n",
       "  <tbody>\n",
       "    <tr>\n",
       "      <th>0</th>\n",
       "      <td>21.00</td>\n",
       "      <td>10</td>\n",
       "      <td>2.302585</td>\n",
       "    </tr>\n",
       "    <tr>\n",
       "      <th>1</th>\n",
       "      <td>13.50</td>\n",
       "      <td>4</td>\n",
       "      <td>1.386294</td>\n",
       "    </tr>\n",
       "    <tr>\n",
       "      <th>2</th>\n",
       "      <td>19.75</td>\n",
       "      <td>6</td>\n",
       "      <td>1.791759</td>\n",
       "    </tr>\n",
       "    <tr>\n",
       "      <th>3</th>\n",
       "      <td>24.00</td>\n",
       "      <td>9</td>\n",
       "      <td>2.197225</td>\n",
       "    </tr>\n",
       "    <tr>\n",
       "      <th>4</th>\n",
       "      <td>29.00</td>\n",
       "      <td>10</td>\n",
       "      <td>2.302585</td>\n",
       "    </tr>\n",
       "  </tbody>\n",
       "</table>\n",
       "</div>"
      ],
      "text/plain": [
       "   delivery_time  sorting_time  log_sorting_time\n",
       "0          21.00            10          2.302585\n",
       "1          13.50             4          1.386294\n",
       "2          19.75             6          1.791759\n",
       "3          24.00             9          2.197225\n",
       "4          29.00            10          2.302585"
      ]
     },
     "execution_count": 89,
     "metadata": {},
     "output_type": "execute_result"
    }
   ],
   "source": [
    "# Preparing data for model building\n",
    "data = pd.DataFrame.copy(df)\n",
    "data['log_sorting_time'] = np.log(data.sorting_time)\n",
    "data.head()"
   ]
  },
  {
   "cell_type": "code",
   "execution_count": 90,
   "id": "e275cb47",
   "metadata": {},
   "outputs": [],
   "source": [
    "# Building model\n",
    "log_model = smf.ols('delivery_time ~ log_sorting_time', data = data).fit()"
   ]
  },
  {
   "cell_type": "code",
   "execution_count": 91,
   "id": "b8deb53f",
   "metadata": {},
   "outputs": [],
   "source": [
    "#Getting important parameters from model"
   ]
  },
  {
   "cell_type": "code",
   "execution_count": 92,
   "id": "f25ef0cb",
   "metadata": {},
   "outputs": [
    {
     "name": "stdout",
     "output_type": "stream",
     "text": [
      "Intercept, Bo:  1.1596835115465813\n",
      "Sorting Time, B1:  9.043413458205762\n",
      "tvalue:  Intercept           0.472460\n",
      "log_sorting_time    6.586789\n",
      "dtype: float64\n",
      "pvalue:  Intercept           0.641980\n",
      "log_sorting_time    0.000003\n",
      "dtype: float64\n",
      "R2:  0.6954434611324223\n",
      "R2_Adj:  0.6794141696130761\n"
     ]
    }
   ],
   "source": [
    "# Coefficients Bo and B1\n",
    "Bo, B1 = log_model.params\n",
    "print(\"Intercept, Bo: \", Bo)\n",
    "print(\"Sorting Time, B1: \", B1)\n",
    "\n",
    "# Getting tvalue and pvalue\n",
    "tvalue, pvalue = (log_model.tvalues, log_model.pvalues)\n",
    "print(\"tvalue: \", tvalue)\n",
    "print(\"pvalue: \", pvalue)\n",
    "\n",
    "# Getting R squared values\n",
    "r_sq, r_sq_adj = (log_model.rsquared, log_model.rsquared_adj)\n",
    "print(\"R2: \", r_sq)\n",
    "print(\"R2_Adj: \", r_sq_adj)"
   ]
  },
  {
   "cell_type": "code",
   "execution_count": 93,
   "id": "38e492df",
   "metadata": {},
   "outputs": [],
   "source": [
    "#Checking predictions of Model by equation"
   ]
  },
  {
   "cell_type": "markdown",
   "id": "de3bb612",
   "metadata": {},
   "source": [
    "#From the result Bo = 1.1596835115465756 and B1 = 9.043413458205773, so our linear regression equation will become Y = Bo + B1*log(X)\n",
    "\n",
    "Y = 1.1596835115465756 + 9.043413458205773*log(X)"
   ]
  },
  {
   "cell_type": "markdown",
   "id": "024c6b69",
   "metadata": {},
   "source": []
  },
  {
   "cell_type": "code",
   "execution_count": 94,
   "id": "eb4a18df",
   "metadata": {},
   "outputs": [
    {
     "data": {
      "text/html": [
       "<div>\n",
       "<style scoped>\n",
       "    .dataframe tbody tr th:only-of-type {\n",
       "        vertical-align: middle;\n",
       "    }\n",
       "\n",
       "    .dataframe tbody tr th {\n",
       "        vertical-align: top;\n",
       "    }\n",
       "\n",
       "    .dataframe thead th {\n",
       "        text-align: right;\n",
       "    }\n",
       "</style>\n",
       "<table border=\"1\" class=\"dataframe\">\n",
       "  <thead>\n",
       "    <tr style=\"text-align: right;\">\n",
       "      <th></th>\n",
       "      <th>Delivery_Time_Actual</th>\n",
       "      <th>Delivery_Time_Predicted</th>\n",
       "    </tr>\n",
       "  </thead>\n",
       "  <tbody>\n",
       "    <tr>\n",
       "      <th>0</th>\n",
       "      <td>21.00</td>\n",
       "      <td>21.982913</td>\n",
       "    </tr>\n",
       "    <tr>\n",
       "      <th>1</th>\n",
       "      <td>13.50</td>\n",
       "      <td>13.696517</td>\n",
       "    </tr>\n",
       "    <tr>\n",
       "      <th>2</th>\n",
       "      <td>19.75</td>\n",
       "      <td>17.363305</td>\n",
       "    </tr>\n",
       "    <tr>\n",
       "      <th>3</th>\n",
       "      <td>24.00</td>\n",
       "      <td>21.030094</td>\n",
       "    </tr>\n",
       "    <tr>\n",
       "      <th>4</th>\n",
       "      <td>29.00</td>\n",
       "      <td>21.982913</td>\n",
       "    </tr>\n",
       "    <tr>\n",
       "      <th>5</th>\n",
       "      <td>15.35</td>\n",
       "      <td>17.363305</td>\n",
       "    </tr>\n",
       "    <tr>\n",
       "      <th>6</th>\n",
       "      <td>19.00</td>\n",
       "      <td>18.757354</td>\n",
       "    </tr>\n",
       "    <tr>\n",
       "      <th>7</th>\n",
       "      <td>9.50</td>\n",
       "      <td>11.094889</td>\n",
       "    </tr>\n",
       "    <tr>\n",
       "      <th>8</th>\n",
       "      <td>17.90</td>\n",
       "      <td>21.982913</td>\n",
       "    </tr>\n",
       "    <tr>\n",
       "      <th>9</th>\n",
       "      <td>18.75</td>\n",
       "      <td>21.030094</td>\n",
       "    </tr>\n",
       "    <tr>\n",
       "      <th>10</th>\n",
       "      <td>19.83</td>\n",
       "      <td>19.964933</td>\n",
       "    </tr>\n",
       "    <tr>\n",
       "      <th>11</th>\n",
       "      <td>10.75</td>\n",
       "      <td>13.696517</td>\n",
       "    </tr>\n",
       "    <tr>\n",
       "      <th>12</th>\n",
       "      <td>16.68</td>\n",
       "      <td>18.757354</td>\n",
       "    </tr>\n",
       "    <tr>\n",
       "      <th>13</th>\n",
       "      <td>11.50</td>\n",
       "      <td>11.094889</td>\n",
       "    </tr>\n",
       "    <tr>\n",
       "      <th>14</th>\n",
       "      <td>12.03</td>\n",
       "      <td>11.094889</td>\n",
       "    </tr>\n",
       "    <tr>\n",
       "      <th>15</th>\n",
       "      <td>14.88</td>\n",
       "      <td>13.696517</td>\n",
       "    </tr>\n",
       "    <tr>\n",
       "      <th>16</th>\n",
       "      <td>13.75</td>\n",
       "      <td>17.363305</td>\n",
       "    </tr>\n",
       "    <tr>\n",
       "      <th>17</th>\n",
       "      <td>18.11</td>\n",
       "      <td>18.757354</td>\n",
       "    </tr>\n",
       "    <tr>\n",
       "      <th>18</th>\n",
       "      <td>8.00</td>\n",
       "      <td>7.428100</td>\n",
       "    </tr>\n",
       "    <tr>\n",
       "      <th>19</th>\n",
       "      <td>17.83</td>\n",
       "      <td>18.757354</td>\n",
       "    </tr>\n",
       "    <tr>\n",
       "      <th>20</th>\n",
       "      <td>21.50</td>\n",
       "      <td>15.714496</td>\n",
       "    </tr>\n",
       "  </tbody>\n",
       "</table>\n",
       "</div>"
      ],
      "text/plain": [
       "    Delivery_Time_Actual  Delivery_Time_Predicted\n",
       "0                  21.00                21.982913\n",
       "1                  13.50                13.696517\n",
       "2                  19.75                17.363305\n",
       "3                  24.00                21.030094\n",
       "4                  29.00                21.982913\n",
       "5                  15.35                17.363305\n",
       "6                  19.00                18.757354\n",
       "7                   9.50                11.094889\n",
       "8                  17.90                21.982913\n",
       "9                  18.75                21.030094\n",
       "10                 19.83                19.964933\n",
       "11                 10.75                13.696517\n",
       "12                 16.68                18.757354\n",
       "13                 11.50                11.094889\n",
       "14                 12.03                11.094889\n",
       "15                 14.88                13.696517\n",
       "16                 13.75                17.363305\n",
       "17                 18.11                18.757354\n",
       "18                  8.00                 7.428100\n",
       "19                 17.83                18.757354\n",
       "20                 21.50                15.714496"
      ]
     },
     "execution_count": 94,
     "metadata": {},
     "output_type": "execute_result"
    }
   ],
   "source": [
    "predicted_time = log_model.predict(data.log_sorting_time)\n",
    "pred_df = pd.DataFrame({'Delivery_Time_Actual' : data.delivery_time, 'Delivery_Time_Predicted' : predicted_time})\n",
    "pred_df"
   ]
  },
  {
   "cell_type": "code",
   "execution_count": 95,
   "id": "7c0773ea",
   "metadata": {},
   "outputs": [
    {
     "data": {
      "image/png": "[encoded data removed]",
      "text/plain": [
       "<Figure size 432x288 with 1 Axes>"
      ]
     },
     "metadata": {
      "needs_background": "light"
     },
     "output_type": "display_data"
    }
   ],
   "source": [
    "# Plotting Actual Vs. Predicted Values\n",
    "plt.scatter(data.log_sorting_time, data.delivery_time,  color='gray')\n",
    "plt.plot(data.log_sorting_time, predicted_time, color='red', linewidth=2)\n",
    "plt.title('Actual Vs. Predicted Values')\n",
    "plt.xlabel('Sorting Time')\n",
    "plt.ylabel('Delivery Time')\n",
    "plt.show()"
   ]
  },
  {
   "cell_type": "code",
   "execution_count": null,
   "id": "4a9ae83d",
   "metadata": {},
   "outputs": [],
   "source": [
    "#calculating Errors"
   ]
  },
  {
   "cell_type": "code",
   "execution_count": 96,
   "id": "99de78fe",
   "metadata": {},
   "outputs": [
    {
     "name": "stdout",
     "output_type": "stream",
     "text": [
      "Mean Absolute Error: 2.0473757067928995\n",
      "Mean Squared Error: 7.470226320948425\n",
      "Root Mean Squared Error: 2.733171476682066\n",
      "R^2 Score :           0.6954434611324223\n"
     ]
    }
   ],
   "source": [
    "print('Mean Absolute Error:', metrics.mean_absolute_error(data.delivery_time, predicted_time))  \n",
    "print('Mean Squared Error:', metrics.mean_squared_error(data.delivery_time, predicted_time))  \n",
    "print('Root Mean Squared Error:', np.sqrt(metrics.mean_squared_error(data.delivery_time, predicted_time)))\n",
    "print(\"R^2 Score :          \", metrics.r2_score(data.delivery_time, predicted_time))"
   ]
  },
  {
   "cell_type": "code",
   "execution_count": 97,
   "id": "a887314b",
   "metadata": {},
   "outputs": [],
   "source": [
    "#Checking Normality of Residuals Using the Anderson-Darling test for normal distribution"
   ]
  },
  {
   "cell_type": "code",
   "execution_count": 98,
   "id": "8b8c23e3",
   "metadata": {},
   "outputs": [
    {
     "name": "stdout",
     "output_type": "stream",
     "text": [
      "p-value from the test: below 0.05 generally means non-normal: 0.1820110432196419\n",
      "Residuals are normally distributed\n"
     ]
    },
    {
     "name": "stderr",
     "output_type": "stream",
     "text": [
      "C:\\Users\\Computer\\anaconda3\\lib\\site-packages\\seaborn\\distributions.py:2557: FutureWarning: `distplot` is a deprecated function and will be removed in a future version. Please adapt your code to use either `displot` (a figure-level function with similar flexibility) or `histplot` (an axes-level function for histograms).\n",
      "  warnings.warn(msg, FutureWarning)\n"
     ]
    },
    {
     "data": {
      "image/png": "[encoded data removed]",
      "text/plain": [
       "<Figure size 864x432 with 1 Axes>"
      ]
     },
     "metadata": {
      "needs_background": "light"
     },
     "output_type": "display_data"
    }
   ],
   "source": [
    "residuals = data.delivery_time - predicted_time\n",
    "p_value_thresh=0.05\n",
    "# Performing the test on the residuals\n",
    "p_value = normal_ad(residuals)[1]\n",
    "print('p-value from the test: below 0.05 generally means non-normal:', p_value)\n",
    "\n",
    "# Reporting the normality of the residuals\n",
    "if p_value < p_value_thresh:\n",
    "    print('Residuals are not normally distributed')\n",
    "else:\n",
    "    print('Residuals are normally distributed')\n",
    "\n",
    "# Plotting the residuals distribution\n",
    "plt.subplots(figsize=(12, 6))\n",
    "plt.title('Distribution of Residuals')\n",
    "sns.distplot(residuals)\n",
    "plt.show()"
   ]
  },
  {
   "cell_type": "code",
   "execution_count": 99,
   "id": "4a5f327b",
   "metadata": {},
   "outputs": [
    {
     "data": {
      "text/html": [
       "<table class=\"simpletable\">\n",
       "<caption>OLS Regression Results</caption>\n",
       "<tr>\n",
       "  <th>Dep. Variable:</th>      <td>delivery_time</td>  <th>  R-squared:         </th> <td>   0.695</td>\n",
       "</tr>\n",
       "<tr>\n",
       "  <th>Model:</th>                   <td>OLS</td>       <th>  Adj. R-squared:    </th> <td>   0.679</td>\n",
       "</tr>\n",
       "<tr>\n",
       "  <th>Method:</th>             <td>Least Squares</td>  <th>  F-statistic:       </th> <td>   43.39</td>\n",
       "</tr>\n",
       "<tr>\n",
       "  <th>Date:</th>             <td>Thu, 03 Feb 2022</td> <th>  Prob (F-statistic):</th> <td>2.64e-06</td>\n",
       "</tr>\n",
       "<tr>\n",
       "  <th>Time:</th>                 <td>18:02:32</td>     <th>  Log-Likelihood:    </th> <td> -50.912</td>\n",
       "</tr>\n",
       "<tr>\n",
       "  <th>No. Observations:</th>      <td>    21</td>      <th>  AIC:               </th> <td>   105.8</td>\n",
       "</tr>\n",
       "<tr>\n",
       "  <th>Df Residuals:</th>          <td>    19</td>      <th>  BIC:               </th> <td>   107.9</td>\n",
       "</tr>\n",
       "<tr>\n",
       "  <th>Df Model:</th>              <td>     1</td>      <th>                     </th>     <td> </td>   \n",
       "</tr>\n",
       "<tr>\n",
       "  <th>Covariance Type:</th>      <td>nonrobust</td>    <th>                     </th>     <td> </td>   \n",
       "</tr>\n",
       "</table>\n",
       "<table class=\"simpletable\">\n",
       "<tr>\n",
       "          <td></td>            <th>coef</th>     <th>std err</th>      <th>t</th>      <th>P>|t|</th>  <th>[0.025</th>    <th>0.975]</th>  \n",
       "</tr>\n",
       "<tr>\n",
       "  <th>Intercept</th>        <td>    1.1597</td> <td>    2.455</td> <td>    0.472</td> <td> 0.642</td> <td>   -3.978</td> <td>    6.297</td>\n",
       "</tr>\n",
       "<tr>\n",
       "  <th>log_sorting_time</th> <td>    9.0434</td> <td>    1.373</td> <td>    6.587</td> <td> 0.000</td> <td>    6.170</td> <td>   11.917</td>\n",
       "</tr>\n",
       "</table>\n",
       "<table class=\"simpletable\">\n",
       "<tr>\n",
       "  <th>Omnibus:</th>       <td> 5.552</td> <th>  Durbin-Watson:     </th> <td>   1.427</td>\n",
       "</tr>\n",
       "<tr>\n",
       "  <th>Prob(Omnibus):</th> <td> 0.062</td> <th>  Jarque-Bera (JB):  </th> <td>   3.481</td>\n",
       "</tr>\n",
       "<tr>\n",
       "  <th>Skew:</th>          <td> 0.946</td> <th>  Prob(JB):          </th> <td>   0.175</td>\n",
       "</tr>\n",
       "<tr>\n",
       "  <th>Kurtosis:</th>      <td> 3.628</td> <th>  Cond. No.          </th> <td>    9.08</td>\n",
       "</tr>\n",
       "</table><br/><br/>Notes:<br/>[1] Standard Errors assume that the covariance matrix of the errors is correctly specified."
      ],
      "text/plain": [
       "<class 'statsmodels.iolib.summary.Summary'>\n",
       "\"\"\"\n",
       "                            OLS Regression Results                            \n",
       "==============================================================================\n",
       "Dep. Variable:          delivery_time   R-squared:                       0.695\n",
       "Model:                            OLS   Adj. R-squared:                  0.679\n",
       "Method:                 Least Squares   F-statistic:                     43.39\n",
       "Date:                Thu, 03 Feb 2022   Prob (F-statistic):           2.64e-06\n",
       "Time:                        18:02:32   Log-Likelihood:                -50.912\n",
       "No. Observations:                  21   AIC:                             105.8\n",
       "Df Residuals:                      19   BIC:                             107.9\n",
       "Df Model:                           1                                         \n",
       "Covariance Type:            nonrobust                                         \n",
       "====================================================================================\n",
       "                       coef    std err          t      P>|t|      [0.025      0.975]\n",
       "------------------------------------------------------------------------------------\n",
       "Intercept            1.1597      2.455      0.472      0.642      -3.978       6.297\n",
       "log_sorting_time     9.0434      1.373      6.587      0.000       6.170      11.917\n",
       "==============================================================================\n",
       "Omnibus:                        5.552   Durbin-Watson:                   1.427\n",
       "Prob(Omnibus):                  0.062   Jarque-Bera (JB):                3.481\n",
       "Skew:                           0.946   Prob(JB):                        0.175\n",
       "Kurtosis:                       3.628   Cond. No.                         9.08\n",
       "==============================================================================\n",
       "\n",
       "Notes:\n",
       "[1] Standard Errors assume that the covariance matrix of the errors is correctly specified.\n",
       "\"\"\""
      ]
     },
     "execution_count": 99,
     "metadata": {},
     "output_type": "execute_result"
    }
   ],
   "source": [
    "log_model.summary()"
   ]
  },
  {
   "cell_type": "code",
   "execution_count": 100,
   "id": "936e4efa",
   "metadata": {},
   "outputs": [],
   "source": [
    "#Building model with exponential transformation\n",
    "#log(Y) =α + βX + ε"
   ]
  },
  {
   "cell_type": "code",
   "execution_count": 101,
   "id": "bac404da",
   "metadata": {},
   "outputs": [
    {
     "data": {
      "text/html": [
       "<div>\n",
       "<style scoped>\n",
       "    .dataframe tbody tr th:only-of-type {\n",
       "        vertical-align: middle;\n",
       "    }\n",
       "\n",
       "    .dataframe tbody tr th {\n",
       "        vertical-align: top;\n",
       "    }\n",
       "\n",
       "    .dataframe thead th {\n",
       "        text-align: right;\n",
       "    }\n",
       "</style>\n",
       "<table border=\"1\" class=\"dataframe\">\n",
       "  <thead>\n",
       "    <tr style=\"text-align: right;\">\n",
       "      <th></th>\n",
       "      <th>delivery_time</th>\n",
       "      <th>sorting_time</th>\n",
       "      <th>log_sorting_time</th>\n",
       "      <th>log_delivery_time</th>\n",
       "    </tr>\n",
       "  </thead>\n",
       "  <tbody>\n",
       "    <tr>\n",
       "      <th>0</th>\n",
       "      <td>21.00</td>\n",
       "      <td>10</td>\n",
       "      <td>2.302585</td>\n",
       "      <td>3.044522</td>\n",
       "    </tr>\n",
       "    <tr>\n",
       "      <th>1</th>\n",
       "      <td>13.50</td>\n",
       "      <td>4</td>\n",
       "      <td>1.386294</td>\n",
       "      <td>2.602690</td>\n",
       "    </tr>\n",
       "    <tr>\n",
       "      <th>2</th>\n",
       "      <td>19.75</td>\n",
       "      <td>6</td>\n",
       "      <td>1.791759</td>\n",
       "      <td>2.983153</td>\n",
       "    </tr>\n",
       "    <tr>\n",
       "      <th>3</th>\n",
       "      <td>24.00</td>\n",
       "      <td>9</td>\n",
       "      <td>2.197225</td>\n",
       "      <td>3.178054</td>\n",
       "    </tr>\n",
       "    <tr>\n",
       "      <th>4</th>\n",
       "      <td>29.00</td>\n",
       "      <td>10</td>\n",
       "      <td>2.302585</td>\n",
       "      <td>3.367296</td>\n",
       "    </tr>\n",
       "  </tbody>\n",
       "</table>\n",
       "</div>"
      ],
      "text/plain": [
       "   delivery_time  sorting_time  log_sorting_time  log_delivery_time\n",
       "0          21.00            10          2.302585           3.044522\n",
       "1          13.50             4          1.386294           2.602690\n",
       "2          19.75             6          1.791759           2.983153\n",
       "3          24.00             9          2.197225           3.178054\n",
       "4          29.00            10          2.302585           3.367296"
      ]
     },
     "execution_count": 101,
     "metadata": {},
     "output_type": "execute_result"
    }
   ],
   "source": [
    "# preparing data to build exponential model\n",
    "data['log_delivery_time'] = np.log(data.delivery_time)\n",
    "data.head()"
   ]
  },
  {
   "cell_type": "code",
   "execution_count": 102,
   "id": "fba773d3",
   "metadata": {},
   "outputs": [],
   "source": [
    "# Building model\n",
    "exp_model = smf.ols('log_delivery_time ~ sorting_time', data = data).fit()"
   ]
  },
  {
   "cell_type": "code",
   "execution_count": 103,
   "id": "7b6a4907",
   "metadata": {},
   "outputs": [],
   "source": [
    "#Getting important parameters from mode"
   ]
  },
  {
   "cell_type": "code",
   "execution_count": 104,
   "id": "974964a3",
   "metadata": {},
   "outputs": [
    {
     "name": "stdout",
     "output_type": "stream",
     "text": [
      "Intercept, Bo:  2.121371854893523\n",
      "Sorting Time, B1:  0.1055515979434444\n",
      "tvalue:  Intercept       20.601357\n",
      "sorting_time     6.836088\n",
      "dtype: float64\n",
      "pvalue:  Intercept       1.857343e-14\n",
      "sorting_time    1.592708e-06\n",
      "dtype: float64\n",
      "R2:  0.7109478980584187\n",
      "R2_Adj:  0.6957346295351776\n"
     ]
    }
   ],
   "source": [
    "# Coefficients Bo and B1\n",
    "Bo, B1 = exp_model.params\n",
    "print(\"Intercept, Bo: \", Bo)\n",
    "print(\"Sorting Time, B1: \", B1)\n",
    "\n",
    "# Getting tvalue and pvalue\n",
    "tvalue, pvalue = (exp_model.tvalues, exp_model.pvalues)\n",
    "print(\"tvalue: \", tvalue)\n",
    "print(\"pvalue: \", pvalue)\n",
    "\n",
    "# Getting R squared values\n",
    "r_sq, r_sq_adj = (exp_model.rsquared, exp_model.rsquared_adj)\n",
    "print(\"R2: \", r_sq)\n",
    "print(\"R2_Adj: \", r_sq_adj)"
   ]
  },
  {
   "cell_type": "markdown",
   "id": "65936bd8",
   "metadata": {},
   "source": [
    "Checking predictions of Model by equation\n",
    "\n",
    "From the result Bo = 2.121371854893524 and B1 = 0.10555159794344435, so our linear regression equation will become log(Y) = Bo + B1X + e\n",
    "\n",
    "log(Y) = 2.121371854893524 + 0.10555159794344435*X + e"
   ]
  },
  {
   "cell_type": "code",
   "execution_count": 105,
   "id": "eb3fcac1",
   "metadata": {},
   "outputs": [
    {
     "data": {
      "text/html": [
       "<div>\n",
       "<style scoped>\n",
       "    .dataframe tbody tr th:only-of-type {\n",
       "        vertical-align: middle;\n",
       "    }\n",
       "\n",
       "    .dataframe tbody tr th {\n",
       "        vertical-align: top;\n",
       "    }\n",
       "\n",
       "    .dataframe thead th {\n",
       "        text-align: right;\n",
       "    }\n",
       "</style>\n",
       "<table border=\"1\" class=\"dataframe\">\n",
       "  <thead>\n",
       "    <tr style=\"text-align: right;\">\n",
       "      <th></th>\n",
       "      <th>Delivery_Time_Actual</th>\n",
       "      <th>Delivery_Time_Predicted</th>\n",
       "    </tr>\n",
       "  </thead>\n",
       "  <tbody>\n",
       "    <tr>\n",
       "      <th>0</th>\n",
       "      <td>3.044522</td>\n",
       "      <td>3.176888</td>\n",
       "    </tr>\n",
       "    <tr>\n",
       "      <th>1</th>\n",
       "      <td>2.602690</td>\n",
       "      <td>2.543578</td>\n",
       "    </tr>\n",
       "    <tr>\n",
       "      <th>2</th>\n",
       "      <td>2.983153</td>\n",
       "      <td>2.754681</td>\n",
       "    </tr>\n",
       "    <tr>\n",
       "      <th>3</th>\n",
       "      <td>3.178054</td>\n",
       "      <td>3.071336</td>\n",
       "    </tr>\n",
       "    <tr>\n",
       "      <th>4</th>\n",
       "      <td>3.367296</td>\n",
       "      <td>3.176888</td>\n",
       "    </tr>\n",
       "    <tr>\n",
       "      <th>5</th>\n",
       "      <td>2.731115</td>\n",
       "      <td>2.754681</td>\n",
       "    </tr>\n",
       "    <tr>\n",
       "      <th>6</th>\n",
       "      <td>2.944439</td>\n",
       "      <td>2.860233</td>\n",
       "    </tr>\n",
       "    <tr>\n",
       "      <th>7</th>\n",
       "      <td>2.251292</td>\n",
       "      <td>2.438027</td>\n",
       "    </tr>\n",
       "    <tr>\n",
       "      <th>8</th>\n",
       "      <td>2.884801</td>\n",
       "      <td>3.176888</td>\n",
       "    </tr>\n",
       "    <tr>\n",
       "      <th>9</th>\n",
       "      <td>2.931194</td>\n",
       "      <td>3.071336</td>\n",
       "    </tr>\n",
       "    <tr>\n",
       "      <th>10</th>\n",
       "      <td>2.987196</td>\n",
       "      <td>2.965785</td>\n",
       "    </tr>\n",
       "    <tr>\n",
       "      <th>11</th>\n",
       "      <td>2.374906</td>\n",
       "      <td>2.543578</td>\n",
       "    </tr>\n",
       "    <tr>\n",
       "      <th>12</th>\n",
       "      <td>2.814210</td>\n",
       "      <td>2.860233</td>\n",
       "    </tr>\n",
       "    <tr>\n",
       "      <th>13</th>\n",
       "      <td>2.442347</td>\n",
       "      <td>2.438027</td>\n",
       "    </tr>\n",
       "    <tr>\n",
       "      <th>14</th>\n",
       "      <td>2.487404</td>\n",
       "      <td>2.438027</td>\n",
       "    </tr>\n",
       "    <tr>\n",
       "      <th>15</th>\n",
       "      <td>2.700018</td>\n",
       "      <td>2.543578</td>\n",
       "    </tr>\n",
       "    <tr>\n",
       "      <th>16</th>\n",
       "      <td>2.621039</td>\n",
       "      <td>2.754681</td>\n",
       "    </tr>\n",
       "    <tr>\n",
       "      <th>17</th>\n",
       "      <td>2.896464</td>\n",
       "      <td>2.860233</td>\n",
       "    </tr>\n",
       "    <tr>\n",
       "      <th>18</th>\n",
       "      <td>2.079442</td>\n",
       "      <td>2.332475</td>\n",
       "    </tr>\n",
       "    <tr>\n",
       "      <th>19</th>\n",
       "      <td>2.880882</td>\n",
       "      <td>2.860233</td>\n",
       "    </tr>\n",
       "    <tr>\n",
       "      <th>20</th>\n",
       "      <td>3.068053</td>\n",
       "      <td>2.649130</td>\n",
       "    </tr>\n",
       "  </tbody>\n",
       "</table>\n",
       "</div>"
      ],
      "text/plain": [
       "    Delivery_Time_Actual  Delivery_Time_Predicted\n",
       "0               3.044522                 3.176888\n",
       "1               2.602690                 2.543578\n",
       "2               2.983153                 2.754681\n",
       "3               3.178054                 3.071336\n",
       "4               3.367296                 3.176888\n",
       "5               2.731115                 2.754681\n",
       "6               2.944439                 2.860233\n",
       "7               2.251292                 2.438027\n",
       "8               2.884801                 3.176888\n",
       "9               2.931194                 3.071336\n",
       "10              2.987196                 2.965785\n",
       "11              2.374906                 2.543578\n",
       "12              2.814210                 2.860233\n",
       "13              2.442347                 2.438027\n",
       "14              2.487404                 2.438027\n",
       "15              2.700018                 2.543578\n",
       "16              2.621039                 2.754681\n",
       "17              2.896464                 2.860233\n",
       "18              2.079442                 2.332475\n",
       "19              2.880882                 2.860233\n",
       "20              3.068053                 2.649130"
      ]
     },
     "execution_count": 105,
     "metadata": {},
     "output_type": "execute_result"
    }
   ],
   "source": [
    "predicted_time = exp_model.predict(data.sorting_time)\n",
    "pred_df = pd.DataFrame({'Delivery_Time_Actual' : data.log_delivery_time, 'Delivery_Time_Predicted' : predicted_time})\n",
    "pred_df"
   ]
  },
  {
   "cell_type": "code",
   "execution_count": 106,
   "id": "849306aa",
   "metadata": {},
   "outputs": [
    {
     "data": {
      "image/png": "[encoded data removed]",
      "text/plain": [
       "<Figure size 432x288 with 1 Axes>"
      ]
     },
     "metadata": {
      "needs_background": "light"
     },
     "output_type": "display_data"
    }
   ],
   "source": [
    "# Plotting Actual Vs. Predicted Values\n",
    "plt.scatter(data.sorting_time, data.log_delivery_time,  color='gray')\n",
    "plt.plot(data.sorting_time, predicted_time, color='red', linewidth=2)\n",
    "plt.title('Actual Vs. Predicted Values')\n",
    "plt.xlabel('Sorting Time')\n",
    "plt.ylabel('Delivery Time')\n",
    "plt.show()"
   ]
  },
  {
   "cell_type": "code",
   "execution_count": 107,
   "id": "60f3ddc5",
   "metadata": {},
   "outputs": [],
   "source": [
    "#Calculating errors"
   ]
  },
  {
   "cell_type": "code",
   "execution_count": 108,
   "id": "0be5ef03",
   "metadata": {},
   "outputs": [
    {
     "name": "stdout",
     "output_type": "stream",
     "text": [
      "Mean Absolute Error: 0.1310730556090564\n",
      "Mean Squared Error: 0.027876563581789988\n",
      "Root Mean Squared Error: 0.16696276106302863\n",
      "R^2 Score :           0.7109478980584187\n"
     ]
    }
   ],
   "source": [
    "print('Mean Absolute Error:', metrics.mean_absolute_error(data.log_delivery_time, predicted_time))  \n",
    "print('Mean Squared Error:', metrics.mean_squared_error(data.log_delivery_time, predicted_time))  \n",
    "print('Root Mean Squared Error:', np.sqrt(metrics.mean_squared_error(data.log_delivery_time, predicted_time)))\n",
    "print(\"R^2 Score :          \", metrics.r2_score(data.log_delivery_time, predicted_time))"
   ]
  },
  {
   "cell_type": "code",
   "execution_count": 109,
   "id": "400b4ed8",
   "metadata": {},
   "outputs": [
    {
     "data": {
      "text/html": [
       "<div>\n",
       "<style scoped>\n",
       "    .dataframe tbody tr th:only-of-type {\n",
       "        vertical-align: middle;\n",
       "    }\n",
       "\n",
       "    .dataframe tbody tr th {\n",
       "        vertical-align: top;\n",
       "    }\n",
       "\n",
       "    .dataframe thead th {\n",
       "        text-align: right;\n",
       "    }\n",
       "</style>\n",
       "<table border=\"1\" class=\"dataframe\">\n",
       "  <thead>\n",
       "    <tr style=\"text-align: right;\">\n",
       "      <th></th>\n",
       "      <th>Actual</th>\n",
       "      <th>Predicted</th>\n",
       "    </tr>\n",
       "  </thead>\n",
       "  <tbody>\n",
       "    <tr>\n",
       "      <th>0</th>\n",
       "      <td>21.00</td>\n",
       "      <td>23.972032</td>\n",
       "    </tr>\n",
       "    <tr>\n",
       "      <th>1</th>\n",
       "      <td>13.50</td>\n",
       "      <td>12.725123</td>\n",
       "    </tr>\n",
       "    <tr>\n",
       "      <th>2</th>\n",
       "      <td>19.75</td>\n",
       "      <td>15.716034</td>\n",
       "    </tr>\n",
       "    <tr>\n",
       "      <th>3</th>\n",
       "      <td>24.00</td>\n",
       "      <td>21.570707</td>\n",
       "    </tr>\n",
       "    <tr>\n",
       "      <th>4</th>\n",
       "      <td>29.00</td>\n",
       "      <td>23.972032</td>\n",
       "    </tr>\n",
       "    <tr>\n",
       "      <th>5</th>\n",
       "      <td>15.35</td>\n",
       "      <td>15.716034</td>\n",
       "    </tr>\n",
       "    <tr>\n",
       "      <th>6</th>\n",
       "      <td>19.00</td>\n",
       "      <td>17.465597</td>\n",
       "    </tr>\n",
       "    <tr>\n",
       "      <th>7</th>\n",
       "      <td>9.50</td>\n",
       "      <td>11.450423</td>\n",
       "    </tr>\n",
       "    <tr>\n",
       "      <th>8</th>\n",
       "      <td>17.90</td>\n",
       "      <td>23.972032</td>\n",
       "    </tr>\n",
       "    <tr>\n",
       "      <th>9</th>\n",
       "      <td>18.75</td>\n",
       "      <td>21.570707</td>\n",
       "    </tr>\n",
       "    <tr>\n",
       "      <th>10</th>\n",
       "      <td>19.83</td>\n",
       "      <td>19.409927</td>\n",
       "    </tr>\n",
       "    <tr>\n",
       "      <th>11</th>\n",
       "      <td>10.75</td>\n",
       "      <td>12.725123</td>\n",
       "    </tr>\n",
       "    <tr>\n",
       "      <th>12</th>\n",
       "      <td>16.68</td>\n",
       "      <td>17.465597</td>\n",
       "    </tr>\n",
       "    <tr>\n",
       "      <th>13</th>\n",
       "      <td>11.50</td>\n",
       "      <td>11.450423</td>\n",
       "    </tr>\n",
       "    <tr>\n",
       "      <th>14</th>\n",
       "      <td>12.03</td>\n",
       "      <td>11.450423</td>\n",
       "    </tr>\n",
       "    <tr>\n",
       "      <th>15</th>\n",
       "      <td>14.88</td>\n",
       "      <td>12.725123</td>\n",
       "    </tr>\n",
       "    <tr>\n",
       "      <th>16</th>\n",
       "      <td>13.75</td>\n",
       "      <td>15.716034</td>\n",
       "    </tr>\n",
       "    <tr>\n",
       "      <th>17</th>\n",
       "      <td>18.11</td>\n",
       "      <td>17.465597</td>\n",
       "    </tr>\n",
       "    <tr>\n",
       "      <th>18</th>\n",
       "      <td>8.00</td>\n",
       "      <td>10.303411</td>\n",
       "    </tr>\n",
       "    <tr>\n",
       "      <th>19</th>\n",
       "      <td>17.83</td>\n",
       "      <td>17.465597</td>\n",
       "    </tr>\n",
       "    <tr>\n",
       "      <th>20</th>\n",
       "      <td>21.50</td>\n",
       "      <td>14.141728</td>\n",
       "    </tr>\n",
       "  </tbody>\n",
       "</table>\n",
       "</div>"
      ],
      "text/plain": [
       "    Actual  Predicted\n",
       "0    21.00  23.972032\n",
       "1    13.50  12.725123\n",
       "2    19.75  15.716034\n",
       "3    24.00  21.570707\n",
       "4    29.00  23.972032\n",
       "5    15.35  15.716034\n",
       "6    19.00  17.465597\n",
       "7     9.50  11.450423\n",
       "8    17.90  23.972032\n",
       "9    18.75  21.570707\n",
       "10   19.83  19.409927\n",
       "11   10.75  12.725123\n",
       "12   16.68  17.465597\n",
       "13   11.50  11.450423\n",
       "14   12.03  11.450423\n",
       "15   14.88  12.725123\n",
       "16   13.75  15.716034\n",
       "17   18.11  17.465597\n",
       "18    8.00  10.303411\n",
       "19   17.83  17.465597\n",
       "20   21.50  14.141728"
      ]
     },
     "execution_count": 109,
     "metadata": {},
     "output_type": "execute_result"
    }
   ],
   "source": [
    "pred_df = pd.DataFrame({'Actual': np.exp(data.log_delivery_time), 'Predicted': np.exp(predicted_time)})\n",
    "pred_df"
   ]
  },
  {
   "cell_type": "markdown",
   "id": "ea0690ec",
   "metadata": {},
   "source": [
    "Checking Normality of Residuals Using the Anderson-Darling test for normal distribution"
   ]
  },
  {
   "cell_type": "code",
   "execution_count": 110,
   "id": "60c384f1",
   "metadata": {},
   "outputs": [
    {
     "name": "stdout",
     "output_type": "stream",
     "text": [
      "p-value from the test: below 0.05 generally means non-normal: 0.8006026322922348\n",
      "Residuals are normally distributed\n"
     ]
    },
    {
     "name": "stderr",
     "output_type": "stream",
     "text": [
      "C:\\Users\\Computer\\anaconda3\\lib\\site-packages\\seaborn\\distributions.py:2557: FutureWarning: `distplot` is a deprecated function and will be removed in a future version. Please adapt your code to use either `displot` (a figure-level function with similar flexibility) or `histplot` (an axes-level function for histograms).\n",
      "  warnings.warn(msg, FutureWarning)\n"
     ]
    },
    {
     "data": {
      "image/png": "[encoded data removed]",
      "text/plain": [
       "<Figure size 864x432 with 1 Axes>"
      ]
     },
     "metadata": {
      "needs_background": "light"
     },
     "output_type": "display_data"
    }
   ],
   "source": [
    "residuals = data.log_delivery_time - predicted_time\n",
    "p_value_thresh=0.05\n",
    "# Performing the test on the residuals\n",
    "p_value = normal_ad(residuals)[1]\n",
    "print('p-value from the test: below 0.05 generally means non-normal:', p_value)\n",
    "\n",
    "# Reporting the normality of the residuals\n",
    "if p_value < p_value_thresh:\n",
    "    print('Residuals are not normally distributed')\n",
    "else:\n",
    "    print('Residuals are normally distributed')\n",
    "\n",
    "# Plotting the residuals distribution\n",
    "plt.subplots(figsize=(12, 6))\n",
    "plt.title('Distribution of Residuals')\n",
    "sns.distplot(residuals)\n",
    "plt.show()"
   ]
  },
  {
   "cell_type": "code",
   "execution_count": 111,
   "id": "745a5fa7",
   "metadata": {},
   "outputs": [
    {
     "data": {
      "text/html": [
       "<table class=\"simpletable\">\n",
       "<caption>OLS Regression Results</caption>\n",
       "<tr>\n",
       "  <th>Dep. Variable:</th>    <td>log_delivery_time</td> <th>  R-squared:         </th> <td>   0.711</td>\n",
       "</tr>\n",
       "<tr>\n",
       "  <th>Model:</th>                   <td>OLS</td>        <th>  Adj. R-squared:    </th> <td>   0.696</td>\n",
       "</tr>\n",
       "<tr>\n",
       "  <th>Method:</th>             <td>Least Squares</td>   <th>  F-statistic:       </th> <td>   46.73</td>\n",
       "</tr>\n",
       "<tr>\n",
       "  <th>Date:</th>             <td>Thu, 03 Feb 2022</td>  <th>  Prob (F-statistic):</th> <td>1.59e-06</td>\n",
       "</tr>\n",
       "<tr>\n",
       "  <th>Time:</th>                 <td>18:12:10</td>      <th>  Log-Likelihood:    </th> <td>  7.7920</td>\n",
       "</tr>\n",
       "<tr>\n",
       "  <th>No. Observations:</th>      <td>    21</td>       <th>  AIC:               </th> <td>  -11.58</td>\n",
       "</tr>\n",
       "<tr>\n",
       "  <th>Df Residuals:</th>          <td>    19</td>       <th>  BIC:               </th> <td>  -9.495</td>\n",
       "</tr>\n",
       "<tr>\n",
       "  <th>Df Model:</th>              <td>     1</td>       <th>                     </th>     <td> </td>   \n",
       "</tr>\n",
       "<tr>\n",
       "  <th>Covariance Type:</th>      <td>nonrobust</td>     <th>                     </th>     <td> </td>   \n",
       "</tr>\n",
       "</table>\n",
       "<table class=\"simpletable\">\n",
       "<tr>\n",
       "        <td></td>          <th>coef</th>     <th>std err</th>      <th>t</th>      <th>P>|t|</th>  <th>[0.025</th>    <th>0.975]</th>  \n",
       "</tr>\n",
       "<tr>\n",
       "  <th>Intercept</th>    <td>    2.1214</td> <td>    0.103</td> <td>   20.601</td> <td> 0.000</td> <td>    1.906</td> <td>    2.337</td>\n",
       "</tr>\n",
       "<tr>\n",
       "  <th>sorting_time</th> <td>    0.1056</td> <td>    0.015</td> <td>    6.836</td> <td> 0.000</td> <td>    0.073</td> <td>    0.138</td>\n",
       "</tr>\n",
       "</table>\n",
       "<table class=\"simpletable\">\n",
       "<tr>\n",
       "  <th>Omnibus:</th>       <td> 1.238</td> <th>  Durbin-Watson:     </th> <td>   1.325</td>\n",
       "</tr>\n",
       "<tr>\n",
       "  <th>Prob(Omnibus):</th> <td> 0.538</td> <th>  Jarque-Bera (JB):  </th> <td>   0.544</td>\n",
       "</tr>\n",
       "<tr>\n",
       "  <th>Skew:</th>          <td> 0.393</td> <th>  Prob(JB):          </th> <td>   0.762</td>\n",
       "</tr>\n",
       "<tr>\n",
       "  <th>Kurtosis:</th>      <td> 3.067</td> <th>  Cond. No.          </th> <td>    18.3</td>\n",
       "</tr>\n",
       "</table><br/><br/>Notes:<br/>[1] Standard Errors assume that the covariance matrix of the errors is correctly specified."
      ],
      "text/plain": [
       "<class 'statsmodels.iolib.summary.Summary'>\n",
       "\"\"\"\n",
       "                            OLS Regression Results                            \n",
       "==============================================================================\n",
       "Dep. Variable:      log_delivery_time   R-squared:                       0.711\n",
       "Model:                            OLS   Adj. R-squared:                  0.696\n",
       "Method:                 Least Squares   F-statistic:                     46.73\n",
       "Date:                Thu, 03 Feb 2022   Prob (F-statistic):           1.59e-06\n",
       "Time:                        18:12:10   Log-Likelihood:                 7.7920\n",
       "No. Observations:                  21   AIC:                            -11.58\n",
       "Df Residuals:                      19   BIC:                            -9.495\n",
       "Df Model:                           1                                         \n",
       "Covariance Type:            nonrobust                                         \n",
       "================================================================================\n",
       "                   coef    std err          t      P>|t|      [0.025      0.975]\n",
       "--------------------------------------------------------------------------------\n",
       "Intercept        2.1214      0.103     20.601      0.000       1.906       2.337\n",
       "sorting_time     0.1056      0.015      6.836      0.000       0.073       0.138\n",
       "==============================================================================\n",
       "Omnibus:                        1.238   Durbin-Watson:                   1.325\n",
       "Prob(Omnibus):                  0.538   Jarque-Bera (JB):                0.544\n",
       "Skew:                           0.393   Prob(JB):                        0.762\n",
       "Kurtosis:                       3.067   Cond. No.                         18.3\n",
       "==============================================================================\n",
       "\n",
       "Notes:\n",
       "[1] Standard Errors assume that the covariance matrix of the errors is correctly specified.\n",
       "\"\"\""
      ]
     },
     "execution_count": 111,
     "metadata": {},
     "output_type": "execute_result"
    }
   ],
   "source": [
    "exp_model.summary()"
   ]
  },
  {
   "cell_type": "code",
   "execution_count": null,
   "id": "eff7cd45",
   "metadata": {},
   "outputs": [],
   "source": []
  },
  {
   "cell_type": "code",
   "execution_count": null,
   "id": "9d1c0b5a",
   "metadata": {},
   "outputs": [],
   "source": []
  },
  {
   "cell_type": "code",
   "execution_count": null,
   "id": "f5e694ba",
   "metadata": {},
   "outputs": [],
   "source": []
  }
 ],
 "metadata": {
  "kernelspec": {
   "display_name": "Python 3",
   "language": "python",
   "name": "python3"
  },
  "language_info": {
   "codemirror_mode": {
    "name": "ipython",
    "version": 3
   },
   "file_extension": ".py",
   "mimetype": "text/x-python",
   "name": "python",
   "nbconvert_exporter": "python",
   "pygments_lexer": "ipython3",
   "version": "3.8.8"
  }
 },
 "nbformat": 4,
 "nbformat_minor": 5
}
